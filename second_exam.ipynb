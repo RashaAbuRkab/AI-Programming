{
 "cells": [
  {
   "cell_type": "markdown",
   "id": "8c82bd23-13d3-4f48-a584-fb4d790e4ab1",
   "metadata": {
    "id": "8c82bd23-13d3-4f48-a584-fb4d790e4ab1",
    "jp-MarkdownHeadingCollapsed": true,
    "tags": []
   },
   "source": [
    "# <span style='color:orange'> By: Dr.Eng. Mohanad Abukmeil</span>\n",
    "\n",
    "# The second exam, please read the following:\n",
    "\n",
    "### <span style='color:black'> This exam covers pandas and NumPy basics   </span>\n",
    "### <span style='color:black'> The weight of this exam is 30 mark. </span>\n",
    "### <span style='color:black'> The exam contains 6 questions, where each section score is 5 marks. </span>\n",
    "### <span style='color:black'> Use Jupyter notebook to, no need to use pycharm. </span>\n",
    "### <span style='color:black'> Make  your code readable by using specific comments. </span>\n",
    "\n",
    "### <span style='color:black'> Any copy and paste between students entails 0 scores for both.</span> \n",
    "### <span style='color:black'>The deadline to deliver the exam's solution is on next Wednesday 14/12/2022 at 23:59:00.</span>\n",
    "\n",
    "\n"
   ]
  },
  {
   "cell_type": "markdown",
   "id": "8f95ba6f-9e16-423a-9ebd-adaf2b940717",
   "metadata": {
    "id": "8f95ba6f-9e16-423a-9ebd-adaf2b940717"
   },
   "source": [
    "# Q1: (Pandas) DataFram creation (5 marks)\n",
    "\n",
    "### <span style='color:black'> Q1.1. (2.5 marks) Use the following data to create a dataframe and print the max and min of the buying and selling.</span>\n",
    "    \n",
    "Company_data= {\n",
    "\n",
    " 'Day': ['2/1/2022','2/2/2022','3/2/2022','4/2/2022'], \n",
    "    \n",
    "    \n",
    "   'Buying': [2000,1500,3000,2100],\n",
    "    \n",
    "   'Selling': [600,700,200,1000],\n",
    "   \n",
    "   'Income': ['Medium', 'Medium', 'Low','High']}\n"
   ]
  },
  {
   "cell_type": "code",
   "execution_count": 10,
   "id": "907552f1-dd22-46df-b066-78ed3c7f5ec9",
   "metadata": {
    "id": "907552f1-dd22-46df-b066-78ed3c7f5ec9"
   },
   "outputs": [
    {
     "name": "stdout",
     "output_type": "stream",
     "text": [
      "the max and min of the Buying 3000 , 1500\n",
      "the max and min of the Selling 1000 , 200\n"
     ]
    }
   ],
   "source": [
    "# A 1.1: Insert your answer here\n",
    "import pandas as pd\n",
    "Company_data= pd.DataFrame( {'Day': ['2/1/2022','2/2/2022','3/2/2022','4/2/2022'],'Buying': [2000,1500,3000,2100],\n",
    "'Selling': [600,700,200,1000],'Income': ['Medium', 'Medium', 'Low','High']})\n",
    "print('the max and min of the Buying' ,max(Company_data.Buying),',',min(Company_data.Buying))\n",
    "print('the max and min of the Selling' ,max(Company_data.Selling),',',min(Company_data.Selling))"
   ]
  },
  {
   "cell_type": "markdown",
   "id": "e31d21d3-8768-4658-b65e-ea76e4eecc55",
   "metadata": {
    "id": "e31d21d3-8768-4658-b65e-ea76e4eecc55"
   },
   "source": [
    "### <span style='color:black'> Q1.2. (2.5 marks) Use the following list of tuples to create a DataFrame and set the title of the column as \"Day, Temperature, Humidity, Event\". Consider replacing 'not_available entry, i.e, treat them as NAN'</span>\n",
    "\n",
    "weather_data =\n",
    "[\n",
    "\n",
    "\n",
    "   ('4/1/2022',32,40,'Sunny'),\n",
    "   \n",
    "  ('4/2/2022',35,50,'not-available'),\n",
    "    \n",
    "   ('4/3/2022',20,20,'Windy'),\n",
    "    \n",
    "   ('4/4/2022',15,28,'not-available'), \n",
    "     \n",
    "   ('4/5/2022',3,30,'Snowy')]\n",
    "\n"
   ]
  },
  {
   "cell_type": "code",
   "execution_count": 273,
   "id": "713b427e-ab78-4c97-8746-973f27757ea4",
   "metadata": {
    "id": "713b427e-ab78-4c97-8746-973f27757ea4"
   },
   "outputs": [
    {
     "data": {
      "text/html": [
       "<div>\n",
       "<style scoped>\n",
       "    .dataframe tbody tr th:only-of-type {\n",
       "        vertical-align: middle;\n",
       "    }\n",
       "\n",
       "    .dataframe tbody tr th {\n",
       "        vertical-align: top;\n",
       "    }\n",
       "\n",
       "    .dataframe thead th {\n",
       "        text-align: right;\n",
       "    }\n",
       "</style>\n",
       "<table border=\"1\" class=\"dataframe\">\n",
       "  <thead>\n",
       "    <tr style=\"text-align: right;\">\n",
       "      <th></th>\n",
       "      <th>Day</th>\n",
       "      <th>Temperature</th>\n",
       "      <th>Humidity</th>\n",
       "      <th>Event</th>\n",
       "    </tr>\n",
       "  </thead>\n",
       "  <tbody>\n",
       "    <tr>\n",
       "      <th>0</th>\n",
       "      <td>4/1/2022</td>\n",
       "      <td>32</td>\n",
       "      <td>40</td>\n",
       "      <td>Sunny</td>\n",
       "    </tr>\n",
       "    <tr>\n",
       "      <th>1</th>\n",
       "      <td>4/2/2022</td>\n",
       "      <td>35</td>\n",
       "      <td>50</td>\n",
       "      <td>NaN</td>\n",
       "    </tr>\n",
       "    <tr>\n",
       "      <th>2</th>\n",
       "      <td>4/3/2022</td>\n",
       "      <td>20</td>\n",
       "      <td>20</td>\n",
       "      <td>Windy</td>\n",
       "    </tr>\n",
       "    <tr>\n",
       "      <th>3</th>\n",
       "      <td>4/4/2022</td>\n",
       "      <td>15</td>\n",
       "      <td>28</td>\n",
       "      <td>NaN</td>\n",
       "    </tr>\n",
       "    <tr>\n",
       "      <th>4</th>\n",
       "      <td>4/5/2022</td>\n",
       "      <td>3</td>\n",
       "      <td>30</td>\n",
       "      <td>Snowy</td>\n",
       "    </tr>\n",
       "  </tbody>\n",
       "</table>\n",
       "</div>"
      ],
      "text/plain": [
       "        Day  Temperature  Humidity  Event\n",
       "0  4/1/2022           32        40  Sunny\n",
       "1  4/2/2022           35        50    NaN\n",
       "2  4/3/2022           20        20  Windy\n",
       "3  4/4/2022           15        28    NaN\n",
       "4  4/5/2022            3        30  Snowy"
      ]
     },
     "execution_count": 273,
     "metadata": {},
     "output_type": "execute_result"
    }
   ],
   "source": [
    "# A 1.2: Insert your answer here\n",
    "weather_data =pd.DataFrame([('4/1/2022',32,40,'Sunny'),('4/2/2022',35,50,'not-available'),('4/3/2022',20,20,'Windy'),\n",
    "('4/4/2022',15,28,'not-available'),('4/5/2022',3,30,'Snowy')],columns=[\"Day\", \"Temperature\", \"Humidity\", \"Event\"])\n",
    "weather_data.replace('not-available', np.nan)"
   ]
  },
  {
   "cell_type": "markdown",
   "id": "eccceceb-f780-47fc-ac90-38fbf9de1bcd",
   "metadata": {
    "id": "eccceceb-f780-47fc-ac90-38fbf9de1bcd"
   },
   "source": [
    "# Q2: (Pandas) Groupby (5 marks)\n",
    "\n",
    "### <span style='color:yellow'>Q2 (5 marks) Read the  \n",
    "dataframe from Weather.csv and perform the following:</span>\n",
    "\n",
    "   1- Group the dataframe by cit and print each city and the corresponding dataframe.\n",
    "   \n",
    "   2- used \"describe\" to show the whole statistics of the data frame that grouped\n",
    "    \n",
    "   2- plot the temperature vs windspeed for each group of city"
   ]
  },
  {
   "cell_type": "code",
   "execution_count": 225,
   "id": "4595ee89-0bd7-4547-9629-433c0a8da072",
   "metadata": {
    "id": "4595ee89-0bd7-4547-9629-433c0a8da072"
   },
   "outputs": [
    {
     "data": {
      "text/html": [
       "<div>\n",
       "<style scoped>\n",
       "    .dataframe tbody tr th:only-of-type {\n",
       "        vertical-align: middle;\n",
       "    }\n",
       "\n",
       "    .dataframe tbody tr th {\n",
       "        vertical-align: top;\n",
       "    }\n",
       "\n",
       "    .dataframe thead th {\n",
       "        text-align: right;\n",
       "    }\n",
       "</style>\n",
       "<table border=\"1\" class=\"dataframe\">\n",
       "  <thead>\n",
       "    <tr style=\"text-align: right;\">\n",
       "      <th></th>\n",
       "      <th>day</th>\n",
       "      <th>temperature</th>\n",
       "      <th>windspeed</th>\n",
       "      <th>event</th>\n",
       "    </tr>\n",
       "    <tr>\n",
       "      <th>city</th>\n",
       "      <th></th>\n",
       "      <th></th>\n",
       "      <th></th>\n",
       "      <th></th>\n",
       "    </tr>\n",
       "  </thead>\n",
       "  <tbody>\n",
       "    <tr>\n",
       "      <th>gaza</th>\n",
       "      <td>1/1/2019</td>\n",
       "      <td>10</td>\n",
       "      <td>6</td>\n",
       "      <td>Rain</td>\n",
       "    </tr>\n",
       "    <tr>\n",
       "      <th>jabalia</th>\n",
       "      <td>1/1/2019</td>\n",
       "      <td>20</td>\n",
       "      <td>20</td>\n",
       "      <td>Sunny</td>\n",
       "    </tr>\n",
       "    <tr>\n",
       "      <th>rafah</th>\n",
       "      <td>1/1/2019</td>\n",
       "      <td>29</td>\n",
       "      <td>5</td>\n",
       "      <td>Sunny</td>\n",
       "    </tr>\n",
       "  </tbody>\n",
       "</table>\n",
       "</div>"
      ],
      "text/plain": [
       "              day  temperature  windspeed  event\n",
       "city                                            \n",
       "gaza     1/1/2019           10          6   Rain\n",
       "jabalia  1/1/2019           20         20  Sunny\n",
       "rafah    1/1/2019           29          5  Sunny"
      ]
     },
     "execution_count": 225,
     "metadata": {},
     "output_type": "execute_result"
    }
   ],
   "source": [
    "# A 2: Insert your answer here\n",
    "# 1- Group the dataframe by cit and print each city and the corresponding dataframe.\n",
    "Weather_data = pd.read_csv(r\"C:\\Users\\pc\\Downloads\\Weather.xls\")\n",
    "data_group = Weather_data.groupby(['city'])\n",
    "data_group.first()"
   ]
  },
  {
   "cell_type": "code",
   "execution_count": 227,
   "id": "b2c483a6",
   "metadata": {},
   "outputs": [
    {
     "data": {
      "text/html": [
       "<div>\n",
       "<style scoped>\n",
       "    .dataframe tbody tr th:only-of-type {\n",
       "        vertical-align: middle;\n",
       "    }\n",
       "\n",
       "    .dataframe tbody tr th {\n",
       "        vertical-align: top;\n",
       "    }\n",
       "\n",
       "    .dataframe thead th {\n",
       "        text-align: right;\n",
       "    }\n",
       "</style>\n",
       "<table border=\"1\" class=\"dataframe\">\n",
       "  <thead>\n",
       "    <tr style=\"text-align: right;\">\n",
       "      <th></th>\n",
       "      <th>city</th>\n",
       "      <th>gaza</th>\n",
       "      <th>jabalia</th>\n",
       "      <th>rafah</th>\n",
       "    </tr>\n",
       "  </thead>\n",
       "  <tbody>\n",
       "    <tr>\n",
       "      <th rowspan=\"8\" valign=\"top\">temperature</th>\n",
       "      <th>count</th>\n",
       "      <td>4.000000</td>\n",
       "      <td>4.000000</td>\n",
       "      <td>4.000000</td>\n",
       "    </tr>\n",
       "    <tr>\n",
       "      <th>mean</th>\n",
       "      <td>24.000000</td>\n",
       "      <td>17.500000</td>\n",
       "      <td>17.500000</td>\n",
       "    </tr>\n",
       "    <tr>\n",
       "      <th>std</th>\n",
       "      <td>9.899495</td>\n",
       "      <td>1.914854</td>\n",
       "      <td>8.660254</td>\n",
       "    </tr>\n",
       "    <tr>\n",
       "      <th>min</th>\n",
       "      <td>10.000000</td>\n",
       "      <td>16.000000</td>\n",
       "      <td>8.000000</td>\n",
       "    </tr>\n",
       "    <tr>\n",
       "      <th>25%</th>\n",
       "      <td>21.250000</td>\n",
       "      <td>16.000000</td>\n",
       "      <td>14.000000</td>\n",
       "    </tr>\n",
       "    <tr>\n",
       "      <th>50%</th>\n",
       "      <td>26.500000</td>\n",
       "      <td>17.000000</td>\n",
       "      <td>16.500000</td>\n",
       "    </tr>\n",
       "    <tr>\n",
       "      <th>75%</th>\n",
       "      <td>29.250000</td>\n",
       "      <td>18.500000</td>\n",
       "      <td>20.000000</td>\n",
       "    </tr>\n",
       "    <tr>\n",
       "      <th>max</th>\n",
       "      <td>33.000000</td>\n",
       "      <td>20.000000</td>\n",
       "      <td>29.000000</td>\n",
       "    </tr>\n",
       "    <tr>\n",
       "      <th rowspan=\"8\" valign=\"top\">windspeed</th>\n",
       "      <th>count</th>\n",
       "      <td>4.000000</td>\n",
       "      <td>4.000000</td>\n",
       "      <td>4.000000</td>\n",
       "    </tr>\n",
       "    <tr>\n",
       "      <th>mean</th>\n",
       "      <td>8.000000</td>\n",
       "      <td>12.750000</td>\n",
       "      <td>9.250000</td>\n",
       "    </tr>\n",
       "    <tr>\n",
       "      <th>std</th>\n",
       "      <td>2.708013</td>\n",
       "      <td>5.251984</td>\n",
       "      <td>5.057997</td>\n",
       "    </tr>\n",
       "    <tr>\n",
       "      <th>min</th>\n",
       "      <td>6.000000</td>\n",
       "      <td>8.000000</td>\n",
       "      <td>5.000000</td>\n",
       "    </tr>\n",
       "    <tr>\n",
       "      <th>25%</th>\n",
       "      <td>6.750000</td>\n",
       "      <td>9.500000</td>\n",
       "      <td>5.000000</td>\n",
       "    </tr>\n",
       "    <tr>\n",
       "      <th>50%</th>\n",
       "      <td>7.000000</td>\n",
       "      <td>11.500000</td>\n",
       "      <td>8.500000</td>\n",
       "    </tr>\n",
       "    <tr>\n",
       "      <th>75%</th>\n",
       "      <td>8.250000</td>\n",
       "      <td>14.750000</td>\n",
       "      <td>12.750000</td>\n",
       "    </tr>\n",
       "    <tr>\n",
       "      <th>max</th>\n",
       "      <td>12.000000</td>\n",
       "      <td>20.000000</td>\n",
       "      <td>15.000000</td>\n",
       "    </tr>\n",
       "  </tbody>\n",
       "</table>\n",
       "</div>"
      ],
      "text/plain": [
       "city                    gaza    jabalia      rafah\n",
       "temperature count   4.000000   4.000000   4.000000\n",
       "            mean   24.000000  17.500000  17.500000\n",
       "            std     9.899495   1.914854   8.660254\n",
       "            min    10.000000  16.000000   8.000000\n",
       "            25%    21.250000  16.000000  14.000000\n",
       "            50%    26.500000  17.000000  16.500000\n",
       "            75%    29.250000  18.500000  20.000000\n",
       "            max    33.000000  20.000000  29.000000\n",
       "windspeed   count   4.000000   4.000000   4.000000\n",
       "            mean    8.000000  12.750000   9.250000\n",
       "            std     2.708013   5.251984   5.057997\n",
       "            min     6.000000   8.000000   5.000000\n",
       "            25%     6.750000   9.500000   5.000000\n",
       "            50%     7.000000  11.500000   8.500000\n",
       "            75%     8.250000  14.750000  12.750000\n",
       "            max    12.000000  20.000000  15.000000"
      ]
     },
     "execution_count": 227,
     "metadata": {},
     "output_type": "execute_result"
    }
   ],
   "source": [
    "# 2- used \"describe\" to show the whole statistics of the data frame that grouped\n",
    "data_group.describe().T"
   ]
  },
  {
   "cell_type": "code",
   "execution_count": 230,
   "id": "a9a54b19",
   "metadata": {},
   "outputs": [
    {
     "data": {
      "text/plain": [
       "[<matplotlib.lines.Line2D at 0x237734426a0>]"
      ]
     },
     "execution_count": 230,
     "metadata": {},
     "output_type": "execute_result"
    },
    {
     "data": {
      "image/png": "[encoded data removed]",
      "text/plain": [
       "<Figure size 432x288 with 1 Axes>"
      ]
     },
     "metadata": {
      "needs_background": "light"
     },
     "output_type": "display_data"
    }
   ],
   "source": [
    "# 2- plot the temperature vs windspeed for each group of city\n",
    "import matplotlib.pyplot as plt\n",
    "gaza_data = data_group.get_group('gaza')\n",
    "plt.xlabel('temperature')\n",
    "plt.ylabel('windspeed')\n",
    "plt.title('temperature vs windspeed for Gaza')\n",
    "plt.plot(gaza_data.temperature,gaza_data.windspeed)"
   ]
  },
  {
   "cell_type": "code",
   "execution_count": 231,
   "id": "832450ce",
   "metadata": {},
   "outputs": [
    {
     "data": {
      "text/plain": [
       "[<matplotlib.lines.Line2D at 0x2377306e340>]"
      ]
     },
     "execution_count": 231,
     "metadata": {},
     "output_type": "execute_result"
    },
    {
     "data": {
      "image/png": "[encoded data removed]",
      "text/plain": [
       "<Figure size 432x288 with 1 Axes>"
      ]
     },
     "metadata": {
      "needs_background": "light"
     },
     "output_type": "display_data"
    }
   ],
   "source": [
    "import matplotlib.pyplot as plt\n",
    "rafah_data = data_group.get_group('rafah')\n",
    "plt.xlabel('temperature')\n",
    "plt.ylabel('windspeed')\n",
    "plt.title('temperature vs windspeed for Rafah')\n",
    "plt.plot(rafah_data.temperature,rafah_data.windspeed)"
   ]
  },
  {
   "cell_type": "code",
   "execution_count": 232,
   "id": "38079f04",
   "metadata": {},
   "outputs": [
    {
     "data": {
      "text/plain": [
       "[<matplotlib.lines.Line2D at 0x23773527310>]"
      ]
     },
     "execution_count": 232,
     "metadata": {},
     "output_type": "execute_result"
    },
    {
     "data": {
      "image/png": "[encoded data removed]",
      "text/plain": [
       "<Figure size 432x288 with 1 Axes>"
      ]
     },
     "metadata": {
      "needs_background": "light"
     },
     "output_type": "display_data"
    }
   ],
   "source": [
    "import matplotlib.pyplot as plt\n",
    "jabalia_data = data_group.get_group('jabalia')\n",
    "plt.xlabel('temperature')\n",
    "plt.ylabel('windspeed')\n",
    "plt.title('temperature vs windspeed for Jabalia')\n",
    "plt.plot(jabalia_data.temperature,jabalia_data.windspeed)"
   ]
  },
  {
   "cell_type": "markdown",
   "id": "2f9e0d3b-ca77-491c-941f-5024210a0b65",
   "metadata": {
    "id": "2f9e0d3b-ca77-491c-941f-5024210a0b65",
    "tags": []
   },
   "source": [
    "# Q3: (Pandas) Pivot tables (5 marks)\n",
    "### <span style='color:black'> Q3 (5 marks) Read the  \n",
    "dataframe from Weather_analysis.csv and perform the following:</span>\n",
    "1- Aggregate dataframe to produce meaningful output by using the city as an index and day as the column.\n",
    "\n",
    "2- Use the count aggregation function to produce a pivot table\n",
    "\n",
    "3-  Transform and reshape dataframe where the index is 'date' and columns are 'city' \n",
    "\n"
   ]
  },
  {
   "cell_type": "code",
   "execution_count": 246,
   "id": "e8757bde",
   "metadata": {},
   "outputs": [],
   "source": [
    "# A3  Insert your answer here\n",
    "Weather_analysis = pd.read_csv(r\"C:\\Users\\pc\\Downloads\\Weather.xls\")"
   ]
  },
  {
   "cell_type": "code",
   "execution_count": 243,
   "id": "e66b44cd-11de-4b46-8016-b6196be3cf5b",
   "metadata": {
    "id": "e66b44cd-11de-4b46-8016-b6196be3cf5b"
   },
   "outputs": [
    {
     "data": {
      "text/html": [
       "<div>\n",
       "<style scoped>\n",
       "    .dataframe tbody tr th:only-of-type {\n",
       "        vertical-align: middle;\n",
       "    }\n",
       "\n",
       "    .dataframe tbody tr th {\n",
       "        vertical-align: top;\n",
       "    }\n",
       "\n",
       "    .dataframe thead tr th {\n",
       "        text-align: left;\n",
       "    }\n",
       "\n",
       "    .dataframe thead tr:last-of-type th {\n",
       "        text-align: right;\n",
       "    }\n",
       "</style>\n",
       "<table border=\"1\" class=\"dataframe\">\n",
       "  <thead>\n",
       "    <tr>\n",
       "      <th></th>\n",
       "      <th colspan=\"4\" halign=\"left\">event</th>\n",
       "      <th colspan=\"4\" halign=\"left\">temperature</th>\n",
       "      <th colspan=\"4\" halign=\"left\">windspeed</th>\n",
       "    </tr>\n",
       "    <tr>\n",
       "      <th>day</th>\n",
       "      <th>1/1/2019</th>\n",
       "      <th>1/2/2019</th>\n",
       "      <th>1/3/2019</th>\n",
       "      <th>1/4/2019</th>\n",
       "      <th>1/1/2019</th>\n",
       "      <th>1/2/2019</th>\n",
       "      <th>1/3/2019</th>\n",
       "      <th>1/4/2019</th>\n",
       "      <th>1/1/2019</th>\n",
       "      <th>1/2/2019</th>\n",
       "      <th>1/3/2019</th>\n",
       "      <th>1/4/2019</th>\n",
       "    </tr>\n",
       "    <tr>\n",
       "      <th>city</th>\n",
       "      <th></th>\n",
       "      <th></th>\n",
       "      <th></th>\n",
       "      <th></th>\n",
       "      <th></th>\n",
       "      <th></th>\n",
       "      <th></th>\n",
       "      <th></th>\n",
       "      <th></th>\n",
       "      <th></th>\n",
       "      <th></th>\n",
       "      <th></th>\n",
       "    </tr>\n",
       "  </thead>\n",
       "  <tbody>\n",
       "    <tr>\n",
       "      <th>gaza</th>\n",
       "      <td>1</td>\n",
       "      <td>1</td>\n",
       "      <td>1</td>\n",
       "      <td>1</td>\n",
       "      <td>1</td>\n",
       "      <td>1</td>\n",
       "      <td>1</td>\n",
       "      <td>1</td>\n",
       "      <td>1</td>\n",
       "      <td>1</td>\n",
       "      <td>1</td>\n",
       "      <td>1</td>\n",
       "    </tr>\n",
       "    <tr>\n",
       "      <th>jabalia</th>\n",
       "      <td>1</td>\n",
       "      <td>1</td>\n",
       "      <td>1</td>\n",
       "      <td>1</td>\n",
       "      <td>1</td>\n",
       "      <td>1</td>\n",
       "      <td>1</td>\n",
       "      <td>1</td>\n",
       "      <td>1</td>\n",
       "      <td>1</td>\n",
       "      <td>1</td>\n",
       "      <td>1</td>\n",
       "    </tr>\n",
       "    <tr>\n",
       "      <th>rafah</th>\n",
       "      <td>1</td>\n",
       "      <td>1</td>\n",
       "      <td>1</td>\n",
       "      <td>1</td>\n",
       "      <td>1</td>\n",
       "      <td>1</td>\n",
       "      <td>1</td>\n",
       "      <td>1</td>\n",
       "      <td>1</td>\n",
       "      <td>1</td>\n",
       "      <td>1</td>\n",
       "      <td>1</td>\n",
       "    </tr>\n",
       "  </tbody>\n",
       "</table>\n",
       "</div>"
      ],
      "text/plain": [
       "           event                            temperature                    \\\n",
       "day     1/1/2019 1/2/2019 1/3/2019 1/4/2019    1/1/2019 1/2/2019 1/3/2019   \n",
       "city                                                                        \n",
       "gaza           1        1        1        1           1        1        1   \n",
       "jabalia        1        1        1        1           1        1        1   \n",
       "rafah          1        1        1        1           1        1        1   \n",
       "\n",
       "                 windspeed                             \n",
       "day     1/4/2019  1/1/2019 1/2/2019 1/3/2019 1/4/2019  \n",
       "city                                                   \n",
       "gaza           1         1        1        1        1  \n",
       "jabalia        1         1        1        1        1  \n",
       "rafah          1         1        1        1        1  "
      ]
     },
     "execution_count": 243,
     "metadata": {},
     "output_type": "execute_result"
    }
   ],
   "source": [
    "# 1- Aggregate dataframe to produce meaningful output by using the city as an index and day as the column.\n",
    "#2- Use the count aggregation function to produce a pivot table\n",
    "pio_data = pd.pivot_table(data= Weather_analysis, index=['city'], columns=['day'],aggfunc='count')\n",
    "pio_data"
   ]
  },
  {
   "cell_type": "code",
   "execution_count": 244,
   "id": "4b60edaa",
   "metadata": {},
   "outputs": [
    {
     "data": {
      "text/html": [
       "<div>\n",
       "<style scoped>\n",
       "    .dataframe tbody tr th:only-of-type {\n",
       "        vertical-align: middle;\n",
       "    }\n",
       "\n",
       "    .dataframe tbody tr th {\n",
       "        vertical-align: top;\n",
       "    }\n",
       "\n",
       "    .dataframe thead th {\n",
       "        text-align: right;\n",
       "    }\n",
       "</style>\n",
       "<table border=\"1\" class=\"dataframe\">\n",
       "  <thead>\n",
       "    <tr style=\"text-align: right;\">\n",
       "      <th></th>\n",
       "      <th>city</th>\n",
       "      <th>gaza</th>\n",
       "      <th>jabalia</th>\n",
       "      <th>rafah</th>\n",
       "    </tr>\n",
       "    <tr>\n",
       "      <th></th>\n",
       "      <th>day</th>\n",
       "      <th></th>\n",
       "      <th></th>\n",
       "      <th></th>\n",
       "    </tr>\n",
       "  </thead>\n",
       "  <tbody>\n",
       "    <tr>\n",
       "      <th rowspan=\"4\" valign=\"top\">event</th>\n",
       "      <th>1/1/2019</th>\n",
       "      <td>1</td>\n",
       "      <td>1</td>\n",
       "      <td>1</td>\n",
       "    </tr>\n",
       "    <tr>\n",
       "      <th>1/2/2019</th>\n",
       "      <td>1</td>\n",
       "      <td>1</td>\n",
       "      <td>1</td>\n",
       "    </tr>\n",
       "    <tr>\n",
       "      <th>1/3/2019</th>\n",
       "      <td>1</td>\n",
       "      <td>1</td>\n",
       "      <td>1</td>\n",
       "    </tr>\n",
       "    <tr>\n",
       "      <th>1/4/2019</th>\n",
       "      <td>1</td>\n",
       "      <td>1</td>\n",
       "      <td>1</td>\n",
       "    </tr>\n",
       "    <tr>\n",
       "      <th rowspan=\"4\" valign=\"top\">temperature</th>\n",
       "      <th>1/1/2019</th>\n",
       "      <td>1</td>\n",
       "      <td>1</td>\n",
       "      <td>1</td>\n",
       "    </tr>\n",
       "    <tr>\n",
       "      <th>1/2/2019</th>\n",
       "      <td>1</td>\n",
       "      <td>1</td>\n",
       "      <td>1</td>\n",
       "    </tr>\n",
       "    <tr>\n",
       "      <th>1/3/2019</th>\n",
       "      <td>1</td>\n",
       "      <td>1</td>\n",
       "      <td>1</td>\n",
       "    </tr>\n",
       "    <tr>\n",
       "      <th>1/4/2019</th>\n",
       "      <td>1</td>\n",
       "      <td>1</td>\n",
       "      <td>1</td>\n",
       "    </tr>\n",
       "    <tr>\n",
       "      <th rowspan=\"4\" valign=\"top\">windspeed</th>\n",
       "      <th>1/1/2019</th>\n",
       "      <td>1</td>\n",
       "      <td>1</td>\n",
       "      <td>1</td>\n",
       "    </tr>\n",
       "    <tr>\n",
       "      <th>1/2/2019</th>\n",
       "      <td>1</td>\n",
       "      <td>1</td>\n",
       "      <td>1</td>\n",
       "    </tr>\n",
       "    <tr>\n",
       "      <th>1/3/2019</th>\n",
       "      <td>1</td>\n",
       "      <td>1</td>\n",
       "      <td>1</td>\n",
       "    </tr>\n",
       "    <tr>\n",
       "      <th>1/4/2019</th>\n",
       "      <td>1</td>\n",
       "      <td>1</td>\n",
       "      <td>1</td>\n",
       "    </tr>\n",
       "  </tbody>\n",
       "</table>\n",
       "</div>"
      ],
      "text/plain": [
       "city                  gaza  jabalia  rafah\n",
       "            day                           \n",
       "event       1/1/2019     1        1      1\n",
       "            1/2/2019     1        1      1\n",
       "            1/3/2019     1        1      1\n",
       "            1/4/2019     1        1      1\n",
       "temperature 1/1/2019     1        1      1\n",
       "            1/2/2019     1        1      1\n",
       "            1/3/2019     1        1      1\n",
       "            1/4/2019     1        1      1\n",
       "windspeed   1/1/2019     1        1      1\n",
       "            1/2/2019     1        1      1\n",
       "            1/3/2019     1        1      1\n",
       "            1/4/2019     1        1      1"
      ]
     },
     "execution_count": 244,
     "metadata": {},
     "output_type": "execute_result"
    }
   ],
   "source": [
    "# 3- Transform and reshape dataframe where the index is 'date' and columns are 'city'\n",
    "pio_data.T"
   ]
  },
  {
   "cell_type": "markdown",
   "id": "5004c87b-fd22-4df4-a686-e4d4e3bfcc9f",
   "metadata": {
    "id": "5004c87b-fd22-4df4-a686-e4d4e3bfcc9f"
   },
   "source": [
    "# Q4: (Numpy) Array generation (5 marks) \n",
    "\n",
    "### <span style='color:yellow'> Q4 (5 marks) create NumPy arrays according to the following:</span>\n",
    "\n",
    "Uses: use np.random.seed(1234)\n",
    "\n",
    "1- generate an array with size 10 by 10 with name a1 and the data type is an integer with a maximum value of 100\n",
    "\n",
    "2- Generate an array from a normal distribution with the size of size 10 by 10\n",
    "\n",
    "3- Generate an array from a uniform distribution with the size of size 10 by 10\n",
    "\n",
    "4- Generate an array with only choice over list [5,10,15] and with size 10 by 10"
   ]
  },
  {
   "cell_type": "code",
   "execution_count": 223,
   "id": "d2275648-445c-4e12-a0f0-2fa5fbd6035e",
   "metadata": {
    "id": "d2275648-445c-4e12-a0f0-2fa5fbd6035e"
   },
   "outputs": [
    {
     "name": "stdout",
     "output_type": "stream",
     "text": [
      "array with size 10 by 10 with name a1 and the data type is an integer with a maximum value of 100:\n",
      "\n",
      "[[47 83 38 53 76 24 15 49 23 26]\n",
      " [30 43 30 26 58 92 69 80 73 47]\n",
      " [50 76 37 34 38 67 11  0 75 80]\n",
      " [ 3  2 19 12 65 75 81 14 71 60]\n",
      " [46 28 81 87 13 96 12 69 95 31]\n",
      " [89 84 45 16 41 72 56 70 56 86]\n",
      " [44 90 83 47 49 18 85 46 98 37]\n",
      " [38  7 67  5 47 47 15 34 10 28]\n",
      " [ 4 82 89 55 78 23 50 62 55 84]\n",
      " [ 0 98 90 33 21 71 68 81 52 64]]\n",
      "\n",
      "array from a normal distribution with the size of size 10 by 10:\n",
      "\n",
      "[[ 0.29934704  0.12727723  0.92618997  2.45523988 -0.32089017 -0.31162665\n",
      "   0.13096188  0.2627855   1.02376449 -0.06259505]\n",
      " [-1.18230029 -0.34475074 -0.24549067 -1.02599523  0.05442481 -0.40684858\n",
      "  -0.71263055  0.86234561 -0.57755028 -0.51181805]\n",
      " [ 0.42555169 -0.06375825  0.19689478 -0.11313818 -0.27402405  0.27021894\n",
      "  -1.00088931  1.43510337  0.15951965  0.61558336]\n",
      " [ 0.02833986  1.91753688 -0.71235804  0.41132583  0.53286942  0.72176551\n",
      "  -0.81317796 -0.08301138  0.61086279 -0.17883904]\n",
      " [-1.46560479 -0.4481659   1.7770915   1.78630695  1.8271375  -1.2062618\n",
      "   0.56229246 -1.28821321  0.45369    -0.02135624]\n",
      " [-0.3929318  -0.28872101 -0.27136977 -1.24925963  0.79850516  1.91171765\n",
      "   1.90143544  0.85129022  0.46868188 -0.13617754]\n",
      " [ 0.41890012 -0.36299509 -0.11193124  0.43353735 -1.19448316 -0.84468285\n",
      "  -1.02271865  0.53189312 -1.03208781 -1.68300919]\n",
      " [ 2.11380701 -0.45062809  0.00497143  0.14154816 -0.62108979 -0.13558021\n",
      "   0.12867025 -0.46049399 -0.01654986 -0.09914061]\n",
      " [-0.0101398  -0.06604235  1.31775949 -1.52220683 -0.23444706 -0.03905094\n",
      "  -1.39575067 -0.43171677  1.50835526  0.16145864]\n",
      " [ 0.86140844  3.41744478 -0.14182451 -0.67208362  0.44426313  0.21271838\n",
      "  -1.96391021  0.58737139  0.43913165  0.13909918]]\n",
      "\n",
      "array from a uniform distribution with the size of size 10 by 10:\n",
      "\n",
      "[[0.21441909 0.90481733 0.52859399 0.7575487  0.52235971 0.59450566\n",
      "  0.37082039 0.08223248 0.52991991 0.75915808]\n",
      " [0.01777811 0.03533422 0.94394711 0.40556919 0.4479019  0.78263591\n",
      "  0.57419279 0.87642588 0.36038531 0.42729407]\n",
      " [0.83383316 0.11213941 0.86878024 0.79134595 0.49167366 0.39582695\n",
      "  0.03559736 0.17168925 0.18904467 0.10286923]\n",
      " [0.90904121 0.58232868 0.89883124 0.43500218 0.07836778 0.22470752\n",
      "  0.69762604 0.49999016 0.50427863 0.74624745]\n",
      " [0.87717688 0.22107585 0.28737949 0.99326442 0.86158527 0.1088452\n",
      "  0.36580839 0.56548686 0.40568059 0.03227048]\n",
      " [0.16937394 0.43069256 0.78043439 0.42717173 0.78993092 0.38612596\n",
      "  0.97910037 0.21940539 0.09285527 0.97542667]\n",
      " [0.28834408 0.37058618 0.99888254 0.5219226  0.82299626 0.84931439\n",
      "  0.68579636 0.03433941 0.05350065 0.08452257]\n",
      " [0.81635423 0.91442705 0.70980936 0.03718317 0.53067953 0.36975317\n",
      "  0.66109923 0.14112447 0.86066665 0.45112463]\n",
      " [0.97978134 0.54205321 0.68360807 0.93754947 0.54670337 0.1652039\n",
      "  0.48875868 0.70090498 0.42004453 0.17756138]\n",
      " [0.78183723 0.54316449 0.78156607 0.59354457 0.10917367 0.01069769\n",
      "  0.01322471 0.45195242 0.9883452  0.6442349 ]]\n",
      "\n",
      "array with only choice over list [5,10,15] and with size 10 by 10:\n",
      "\n",
      "[[10  5 15 10 15 10  5 10 10 15]\n",
      " [15 15  5  5 15  5 10 15 10  5]\n",
      " [15 15 10 15  5 15 10 10 10 10]\n",
      " [15 15 10 15 10 10 10  5 15  5]\n",
      " [ 5 10 10 10 10 15 10 10 15  5]\n",
      " [15 10 10 10  5  5 10 10 10  5]\n",
      " [10 10  5  5 10 15  5  5  5 10]\n",
      " [10 15  5  5 15 15  5 10  5  5]\n",
      " [10 10  5  5 15 15 10 10  5 10]\n",
      " [15 10 10  5  5 10 15 15  5 10]]\n"
     ]
    }
   ],
   "source": [
    "#A.4  Insert your answer here\n",
    "arr = np.random.seed(1234)\n",
    "# a1 = np.ones([10,10])\n",
    "a1 =  np.random.randint(100,size=(10,10))\n",
    "print(f'array with size 10 by 10 with name a1 and the data type is an integer with a maximum value of 100:\\n\\n{a1}')\n",
    "a2 = np.random.normal(size=(10,10))\n",
    "print(f'\\narray from a normal distribution with the size of size 10 by 10:\\n\\n{a2}')\n",
    "a3 = np.random.uniform(size=(10,10))\n",
    "print(f'\\narray from a uniform distribution with the size of size 10 by 10:\\n\\n{a3}')\n",
    "a4 = np.random.choice([5,10,15],size=(10,10))\n",
    "print(f'\\narray with only choice over list [5,10,15] and with size 10 by 10:\\n\\n{a4}')"
   ]
  },
  {
   "cell_type": "markdown",
   "id": "7262bce0-e7e6-478e-bba5-cb58b6ede113",
   "metadata": {
    "id": "7262bce0-e7e6-478e-bba5-cb58b6ede113"
   },
   "source": [
    "# Q5: (Numpy) Slicing (5 marks) \n",
    "\n",
    "### <span style='color:yellow'> Q5 (5 marks) Given the following array arr1:</span>\n",
    "\n",
    "arr1= array([[ 50, 20, 3, 4, 1],\n",
    "       [ 10, 4, 9, 8, 30],\n",
    "       [15, 6, 27, 15, 7]])\n",
    "       \n",
    "Do the following:\n",
    "    - Print the second column.\n",
    "    - Print the element that is in row 2 and column 3.\n",
    "    - Print all elements in rows 1,and 2."
   ]
  },
  {
   "cell_type": "code",
   "execution_count": 33,
   "id": "9d215d71-216e-4fd7-b7a3-3701a04aba33",
   "metadata": {
    "id": "9d215d71-216e-4fd7-b7a3-3701a04aba33"
   },
   "outputs": [
    {
     "name": "stdout",
     "output_type": "stream",
     "text": [
      "1) the second column:  20 4 6\n",
      "2) the element that is in row 2 and column 3:  9\n",
      "3) all elements in rows 1,and 2:\n",
      " [[50 20  3  4  1]\n",
      " [10  4  9  8 30]]\n"
     ]
    }
   ],
   "source": [
    "#A.5  Insert your answer here\n",
    "import numpy as np\n",
    "arr1= np.array([[ 50, 20, 3, 4, 1], [ 10, 4, 9, 8, 30], [15, 6, 27, 15, 7]])\n",
    "print('1) the second column: ' ,arr1[0,1],arr1[1,1],arr1[2,1])\n",
    "print('2) the element that is in row 2 and column 3: ' ,arr1[1,2])\n",
    "print('3) all elements in rows 1,and 2:\\n' , arr1[:2])"
   ]
  },
  {
   "cell_type": "markdown",
   "id": "e2803a3a-89e6-4d05-b497-1b6287399f8e",
   "metadata": {
    "id": "e2803a3a-89e6-4d05-b497-1b6287399f8e"
   },
   "source": [
    "# Q6: (Numpy) drop axis (5 marks) \n",
    "\n",
    "### <span style='color:yellow'> Q6 (5 marks) Given the following array arr2:</span>\n",
    "\n",
    "\n",
    "arr2= np.array([[[10], [20], [30],[40]]])\n",
    "\n",
    "Do the following:\n",
    "\n",
    "   Drop any axis with length = 1\n",
    "    "
   ]
  },
  {
   "cell_type": "code",
   "execution_count": 36,
   "id": "f2b0c077-cd14-4643-87eb-9650caeb3fec",
   "metadata": {
    "id": "f2b0c077-cd14-4643-87eb-9650caeb3fec"
   },
   "outputs": [
    {
     "name": "stdout",
     "output_type": "stream",
     "text": [
      "the Output from Drop any axis with length = 1 : [10 20 30 40]\n"
     ]
    }
   ],
   "source": [
    "#A.6  Insert your answer here\n",
    "arr2= np.array([[[10], [20], [30],[40]]])\n",
    "print('the Output from Drop any axis with length = 1 :',np.squeeze(arr2)) "
   ]
  },
  {
   "cell_type": "code",
   "execution_count": 164,
   "id": "abd2cff0",
   "metadata": {},
   "outputs": [
    {
     "data": {
      "text/plain": [
       "(1, 4, 1)"
      ]
     },
     "execution_count": 164,
     "metadata": {},
     "output_type": "execute_result"
    }
   ],
   "source": [
    "arr2.shape"
   ]
  }
 ],
 "metadata": {
  "colab": {
   "provenance": []
  },
  "kernelspec": {
   "display_name": "Python 3 (ipykernel)",
   "language": "python",
   "name": "python3"
  },
  "language_info": {
   "codemirror_mode": {
    "name": "ipython",
    "version": 3
   },
   "file_extension": ".py",
   "mimetype": "text/x-python",
   "name": "python",
   "nbconvert_exporter": "python",
   "pygments_lexer": "ipython3",
   "version": "3.9.7"
  }
 },
 "nbformat": 4,
 "nbformat_minor": 5
}
