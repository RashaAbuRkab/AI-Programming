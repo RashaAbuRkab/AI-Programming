{
 "cells": [
  {
   "cell_type": "markdown",
   "id": "8c82bd23-13d3-4f48-a584-fb4d790e4ab1",
   "metadata": {
    "jp-MarkdownHeadingCollapsed": true,
    "tags": []
   },
   "source": [
    "\n",
    "# The first exam, please read the following:\n",
    "\n",
    "### <span style='color:yellow'> This exam covers python basics programming  </span>\n",
    "### <span style='color:yellow'> The weight of this exam is 20 mark. </span>\n",
    "### <span style='color:yellow'> The exam contains 4 sections, where each section score is 5 marks. </span>\n",
    "### <span style='color:yellow'> Use Jupyter notebook to, no need to use pycharm. </span>\n",
    "### <span style='color:yellow'> Make  your code readable by using specific comments. </span>\n",
    "\n",
    "### <span style='color:yellow'> Any copy and paste between students entails 0 scores for both.</span> \n",
    "### <span style='color:yellow'>The deadline to deliver the exam's solution is on next Monday 31/10/2022 at 23:59:00.</span>\n",
    "\n",
    "\n"
   ]
  },
  {
   "cell_type": "markdown",
   "id": "8f95ba6f-9e16-423a-9ebd-adaf2b940717",
   "metadata": {},
   "source": [
    "# Q1: Python If condition (5 marks)\n",
    "\n",
    "### <span style='color:yellow'> Q1.1. (2.5 marks) Using following list of cities per country,\n",
    "palestine = [\"gaza\", \"rafah\", \"nablus\"]\n",
    "    \n",
    "Egypt = [\"cairo\",\"sina\",\"almansoura\"]\n",
    "    \n",
    "Emirates = [\"dubai\", \"abudhabi\", \"sharqa\"]\n",
    "    \n",
    "Write a program that asks user to enter a city name and it should tell which country the city belongs to.</span>"
   ]
  },
  {
   "cell_type": "code",
   "execution_count": 6,
   "id": "9033b89f-c054-45d8-8006-ecd62fd9cd59",
   "metadata": {
    "scrolled": true
   },
   "outputs": [
    {
     "name": "stdout",
     "output_type": "stream",
     "text": [
      "enter a city name :gaza\n",
      "gaza belongs to palestine\n"
     ]
    }
   ],
   "source": [
    "# A1.1 Solution here\n",
    "city = input('enter a city name :')\n",
    "palestine = [\"gaza\", \"rafah\", \"nablus\"]\n",
    "Egypt = [\"cairo\",\"sina\",\"almansoura\"]\n",
    "Emirates = [\"dubai\", \"abudhabi\", \"sharqa\"]\n",
    "if city in palestine :\n",
    "    print(f'{city} belongs to palestine')\n",
    "if city in Egypt :\n",
    "    print(f'{city} the city belongs to Egypt')\n",
    "if city in Emirates :\n",
    "    print(f'{city} the city belongs to Emirates')"
   ]
  },
  {
   "cell_type": "markdown",
   "id": "d8520e73-7bfb-465d-9c81-84ed1337767f",
   "metadata": {},
   "source": [
    "### <span style='color:yellow'> Q1.2. (2.5 marks) Write a python program that can tell you if your sugar is normal or not. Normal fasting level sugar range is 80 to 100.\n",
    "    \n",
    "1- Ask user to enter his fasting sugar level.\n",
    "    \n",
    "2- If it is below 80 to 100 range then print that sugar is low.\n",
    "    \n",
    "3- If it is above 100 then print that it is high otherwise print that it is normal.</span>"
   ]
  },
  {
   "cell_type": "code",
   "execution_count": 16,
   "id": "ca3b6600-5893-4aa7-928d-d52e76fbeb46",
   "metadata": {},
   "outputs": [
    {
     "name": "stdout",
     "output_type": "stream",
     "text": [
      "enter your fasting sugar level : 70\n",
      "sugar is low\n"
     ]
    }
   ],
   "source": [
    "# A1.2 solution here\n",
    "su_level =int(input('enter your fasting sugar level : ')) \n",
    "if su_level < 80 :\n",
    "    print('sugar is low')\n",
    "if su_level > 100 :\n",
    "    print('sugar is high')\n",
    "if (su_level >= 80 ) & (su_level <= 100)  :\n",
    "    print('sugar is normal')"
   ]
  },
  {
   "cell_type": "markdown",
   "id": "48ed9397-1d22-42f9-8e32-7a55b87f5293",
   "metadata": {},
   "source": [
    "# Q2: Functions in python (5 marks)\n"
   ]
  },
  {
   "cell_type": "markdown",
   "id": "294b76f2-28e6-49e7-983b-495eaf535fdb",
   "metadata": {},
   "source": [
    "### <span style='color:yellow'> Q2.1. (2.5 marks) Write a function called calculate_volume that takes height and radius as an input and returns the volume of a cylinder.\n",
    "\n",
    "The equation of a volume of a cylinder is,\n",
    "volume = pi*(square of radius)*height, where pi=3.14 </span>"
   ]
  },
  {
   "cell_type": "code",
   "execution_count": 18,
   "id": "0309ba4b-9157-444d-a4f8-9424569847c8",
   "metadata": {},
   "outputs": [
    {
     "name": "stdout",
     "output_type": "stream",
     "text": [
      "The volume of a cylinder is 125.66370614359172\n"
     ]
    }
   ],
   "source": [
    "# A2.1 Solution here\n",
    "from math import pi\n",
    "def calculate_volume(h,r) :\n",
    "    volume = pi * (r*r) * h\n",
    "    return volume\n",
    "print(f'The volume of a cylinder is {calculate_volume(10,2)}')"
   ]
  },
  {
   "cell_type": "markdown",
   "id": "854929e6-03fa-44d1-9ae0-cd811bb5cdcb",
   "metadata": {},
   "source": [
    "### <span style='color:yellow'> Q2.2. (2.5 marks) Write a function called print_pattern that takes integer number as an argument and prints following pattern if input number is 5.\n",
    "    \n",
    "    * \n",
    "    **\n",
    "    ***\n",
    "    *****\n",
    "    ******\n",
    "\n",
    "</span>"
   ]
  },
  {
   "cell_type": "code",
   "execution_count": 37,
   "id": "7832c740-0fc9-4736-9f2c-d2f6402a6ff6",
   "metadata": {},
   "outputs": [
    {
     "name": "stdout",
     "output_type": "stream",
     "text": [
      "enter an integer number :5\n",
      "\n",
      "*\n",
      "**\n",
      "***\n",
      "****\n",
      "*****\n"
     ]
    }
   ],
   "source": [
    "# A2.2 Solution here\n",
    "def print_pattern(n):\n",
    "    for i in range(n+1):\n",
    "        n=i\n",
    "        print(n*'*')\n",
    "num = int(input('enter an integer number : '))\n",
    "print_pattern(num)        "
   ]
  },
  {
   "cell_type": "markdown",
   "id": "6d086d2a-e778-4e9f-98de-e87e725cfdee",
   "metadata": {},
   "source": [
    "# Q3: Class/  Multiple inheritance (5 marks)\n",
    "\n",
    "### <span style='color:yellow'> Q3.1. (2.5 marks)  Create three classes with the names Teacher, Engineer, and Writer, and print the name of the class inside each one.</span>\n"
   ]
  },
  {
   "cell_type": "code",
   "execution_count": 48,
   "id": "6fb8833b-164d-46cd-b310-787c557c374f",
   "metadata": {},
   "outputs": [
    {
     "name": "stdout",
     "output_type": "stream",
     "text": [
      "Teacher\n",
      "Writer\n",
      "Engineer\n"
     ]
    }
   ],
   "source": [
    "# A3.1 Solution here\n",
    "class Teacher :\n",
    "    def __init__(self):\n",
    "        print('Teacher')\n",
    "        \n",
    "        \n",
    "class Engineer :\n",
    "    def __init__(self): \n",
    "        print('Engineer')\n",
    "        \n",
    "class Writer :\n",
    "    def __init__(self):\n",
    "        print('Writer')\n",
    "T = Teacher()\n",
    "W = Writer()\n",
    "E = Engineer()"
   ]
  },
  {
   "cell_type": "markdown",
   "id": "d7716007-a461-4ec6-bc33-8a1a38b694a6",
   "metadata": {},
   "source": [
    "### <span style='color:yellow'> Q3.2. (2.5 marks)  Create three classes with names of the Teacher, Engineer, and Writer and print the name of the class inside each one. Then create a fourth class and name it a student that can inherit from the Teacher, Engineer, and Writer.</span>\n"
   ]
  },
  {
   "cell_type": "code",
   "execution_count": 49,
   "id": "b072d6ce-e8c0-4fcf-8d76-f6e9af36e4f8",
   "metadata": {},
   "outputs": [
    {
     "name": "stdout",
     "output_type": "stream",
     "text": [
      "student\n"
     ]
    }
   ],
   "source": [
    "# A3.2 Solution here\n",
    "# A3.1 Solution here\n",
    "class Teacher :\n",
    "    def __init__(self):\n",
    "        print('Teacher')        \n",
    "        \n",
    "class Engineer :\n",
    "    def __init__(self): \n",
    "        print('Engineer')\n",
    "        \n",
    "class Writer :\n",
    "    def __init__(self):\n",
    "        print('Writer')\n",
    "class student(Teacher,Engineer,Writer) :\n",
    "    def __init__(self):\n",
    "        print('student')\n",
    "S = student()"
   ]
  },
  {
   "cell_type": "markdown",
   "id": "bb281d52-fc30-47a0-8631-6a826f2dc213",
   "metadata": {},
   "source": [
    "# Q4: Generators\n",
    "\n",
    "### <span style='color:yellow'> Q4. (5 marks)Create a Generator method using yield such that every time it will return the next square number for example 1 4 9 16. consider the limit of generation is 100.</span>"
   ]
  },
  {
   "cell_type": "code",
   "execution_count": 74,
   "id": "c8cdab9d-7a99-42cb-9ff9-fed72cf7630d",
   "metadata": {},
   "outputs": [
    {
     "name": "stdout",
     "output_type": "stream",
     "text": [
      "[0, 1, 4, 9, 16, 25, 36, 49, 64, 81, 100, 121, 144, 169, 196, 225, 256, 289, 324, 361, 400, 441, 484, 529, 576, 625, 676, 729, 784, 841, 900, 961, 1024, 1089, 1156, 1225, 1296, 1369, 1444, 1521, 1600, 1681, 1764, 1849, 1936, 2025, 2116, 2209, 2304, 2401, 2500, 2601, 2704, 2809, 2916, 3025, 3136, 3249, 3364, 3481, 3600, 3721, 3844, 3969, 4096, 4225, 4356, 4489, 4624, 4761, 4900, 5041, 5184, 5329, 5476, 5625, 5776, 5929, 6084, 6241, 6400, 6561, 6724, 6889, 7056, 7225, 7396, 7569, 7744, 7921, 8100, 8281, 8464, 8649, 8836, 9025, 9216, 9409, 9604, 9801]\n"
     ]
    }
   ],
   "source": [
    "# A4 Solution here\n",
    "def square_number(numbers):\n",
    "    for number in numbers:\n",
    "        yield number*number\n",
    "\n",
    "numbers = [x for x in range(100)]\n",
    "\n",
    "square_result = square_number(numbers)\n",
    "lst = []\n",
    "for number in square_result:\n",
    "    lst.append(number)\n",
    "\n",
    "print(lst)"
   ]
  },
  {
   "cell_type": "code",
   "execution_count": null,
   "id": "b1d5e35e",
   "metadata": {},
   "outputs": [],
   "source": []
  }
 ],
 "metadata": {
  "kernelspec": {
   "display_name": "Python 3 (ipykernel)",
   "language": "python",
   "name": "python3"
  },
  "language_info": {
   "codemirror_mode": {
    "name": "ipython",
    "version": 3
   },
   "file_extension": ".py",
   "mimetype": "text/x-python",
   "name": "python",
   "nbconvert_exporter": "python",
   "pygments_lexer": "ipython3",
   "version": "3.9.7"
  }
 },
 "nbformat": 4,
 "nbformat_minor": 5
}
